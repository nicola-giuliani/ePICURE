{
 "cells": [
  {
   "cell_type": "code",
   "execution_count": null,
   "metadata": {
    "collapsed": false
   },
   "outputs": [],
   "source": [
    "from interfaces import *\n",
    "from utilities import *\n",
    "import numpy as np\n",
    "%pylab inline"
   ]
  },
  {
   "cell_type": "code",
   "execution_count": null,
   "metadata": {
    "collapsed": false
   },
   "outputs": [],
   "source": [
    "filepath = '/Users/nicolagiuliani/giuliani-code/blender/'\n",
    "\n",
    "# We load the original control points exported from blender\n",
    "cp_original = np.load(filepath + 'julicher_CPs.npy')\n",
    "\n",
    "print cp_original.shape\n",
    "\n",
    "class Antenna(object):\n",
    "    def __init__(self, cp, vs):\n",
    "        self.cp = cp\n",
    "        self.vs = vs\n",
    "    \n",
    "    def plot(self, t):\n",
    "        s = linspace(0,1,50)\n",
    "        c = self.vs.element(self.cp[:,t,:])\n",
    "        plot(c(s)[0], c(s)[1])\n",
    "        plot(self.cp[:,t,0], self.cp[:,t,1], '-or')\n",
    "\n",
    "    def plot_curve(self, t):\n",
    "        s = linspace(0,1,50)\n",
    "        c = self.vs.element(self.cp[:,t,:])\n",
    "        plot(c(s)[0], c(s)[1])\n",
    "        #plot(self.cp[:,t,0], self.cp[:,t,1], '-or')\n"
   ]
  },
  {
   "cell_type": "code",
   "execution_count": null,
   "metadata": {
    "collapsed": false
   },
   "outputs": [],
   "source": [
    "#BSpline parameters\n",
    "n = 4\n",
    "p = 3\n",
    "# Number of least square points\n",
    "n_ls = 140\n",
    "\n",
    "# Open knot vector\n",
    "knots = np.zeros(n+2*(p+1))\n",
    "\n",
    "knots = np.linspace(0,1,len(knots))\n",
    "knots[0:p+1] = 0\n",
    "knots[-p-1::] = 1\n",
    "print len(knots), p\n",
    "vsl = BsplineVectorSpace(p, knots)\n",
    "print vsl.n_dofs"
   ]
  },
  {
   "cell_type": "code",
   "execution_count": null,
   "metadata": {
    "collapsed": false
   },
   "outputs": [],
   "source": [
    "a = Antenna(cp_original, vsl)\n",
    "\n",
    "for i in range(139):\n",
    "    a.plot(i)"
   ]
  },
  {
   "cell_type": "code",
   "execution_count": null,
   "metadata": {
    "collapsed": false
   },
   "outputs": [],
   "source": [
    "arky = ArcLengthParametrizer(vsl, cp_original, 100, 2)\n",
    "cp_rep = arky.reparametrize()"
   ]
  },
  {
   "cell_type": "code",
   "execution_count": null,
   "metadata": {
    "collapsed": false
   },
   "outputs": [],
   "source": [
    "a_rep = Antenna(cp_rep, vsl)\n",
    "\n",
    "a.plot(0)\n",
    "a_rep.plot(0)"
   ]
  },
  {
   "cell_type": "code",
   "execution_count": null,
   "metadata": {
    "collapsed": false
   },
   "outputs": [],
   "source": [
    "save('/Users/nicolagiuliani/giuliani-code/blender/CPs_rep', cp_rep)"
   ]
  },
  {
   "cell_type": "code",
   "execution_count": null,
   "metadata": {
    "collapsed": false
   },
   "outputs": [],
   "source": [
    "range(0,100,10)"
   ]
  },
  {
   "cell_type": "code",
   "execution_count": null,
   "metadata": {
    "collapsed": false
   },
   "outputs": [],
   "source": [
    "cp_rep_new=np.zeros(cp_rep.shape)\n",
    "for j in range(cp_rep.shape[1]):\n",
    "    cp_rep_new[:,j,:] = cp_rep[:,j,] - cp_rep[0,j,:]\n",
    "    \n",
    "a_rep_new = Antenna(cp_rep_new, vsl)\n",
    "\n",
    "a_rep.plot(4)\n",
    "a_rep_new.plot(4)\n",
    "    "
   ]
  },
  {
   "cell_type": "code",
   "execution_count": null,
   "metadata": {
    "collapsed": false
   },
   "outputs": [],
   "source": [
    "alpha=37.608*np.pi/180\n",
    "print np.sin(alpha)\n",
    "\n",
    "R=np.zeros([3,3])\n",
    "print R\n",
    "R[0,0]=np.cos(alpha)\n",
    "R[1,1]=R[0,0]\n",
    "R[0,1]=-np.sin(alpha)\n",
    "R[1,0]=-R[0,1]\n",
    "R[2,2]=1\n",
    "print R\n",
    "\n",
    "print np.dot(R,cp_rep[0,0,:])\n"
   ]
  },
  {
   "cell_type": "code",
   "execution_count": null,
   "metadata": {
    "collapsed": false
   },
   "outputs": [],
   "source": [
    "cp_rep_final=np.zeros(cp_rep.shape)\n",
    "for j in range(cp_rep_new.shape[1]):\n",
    "    for k in range(cp_rep_new.shape[0]):\n",
    "        cp_rep_final[k,j,:]=np.dot(R,cp_rep_new[k,j,:])\n",
    "    \n",
    "a_rep_final = Antenna(cp_rep_final, vsl)\n",
    "\n",
    "a_rep.plot(4)\n",
    "a_rep_new.plot(4)\n",
    "a_rep_final.plot(4)"
   ]
  },
  {
   "cell_type": "code",
   "execution_count": null,
   "metadata": {
    "collapsed": false
   },
   "outputs": [],
   "source": [
    "save('/Users/nicolagiuliani/giuliani-code/blender/CPs_rep_rot', cp_rep_final)"
   ]
  },
  {
   "cell_type": "code",
   "execution_count": null,
   "metadata": {
    "collapsed": false
   },
   "outputs": [],
   "source": [
    "for i in range(80,90):\n",
    "    a_rep_final.plot(i)"
   ]
  },
  {
   "cell_type": "code",
   "execution_count": null,
   "metadata": {
    "collapsed": false
   },
   "outputs": [],
   "source": [
    "arky_cc = ArcLengthParametrizer(vsl, cp_original[:,:,:], 2, 1)\n",
    "cp_rep_cc = arky_cc.reparametrize()\n",
    "cp_rep_cc_final=np.zeros(cp_rep_cc.shape)\n",
    "for j in range(cp_rep_new.shape[1]):\n",
    "    for k in range(cp_rep_new.shape[0]):\n",
    "        cp_rep_cc_final[k,j,:]=np.dot(R,cp_rep_cc[k,j,:])\n",
    "\n",
    "ant_try = Antenna(cp_rep_cc_final,vsl)\n",
    "for i in range(0,139,10):\n",
    "    ant_try.plot_curve(i)\n",
    "#     points = np.zeros([points_per_frame[i],2])\n",
    "#     if i == 0:\n",
    "#         start_index = 0\n",
    "#     else:\n",
    "#         start_index = int(np.sum(points_per_frame[:(i)]))\n",
    "#     points = Guasto[start_index:(start_index+points_per_frame[i]),2:]\n",
    "    #plot(points[:,0],points[:,1],'--')\n"
   ]
  },
  {
   "cell_type": "code",
   "execution_count": null,
   "metadata": {
    "collapsed": false
   },
   "outputs": [],
   "source": [
    "2"
   ]
  }
 ],
 "metadata": {
  "kernelspec": {
   "display_name": "Python 2",
   "language": "python",
   "name": "python2"
  },
  "language_info": {
   "codemirror_mode": {
    "name": "ipython",
    "version": 2
   },
   "file_extension": ".py",
   "mimetype": "text/x-python",
   "name": "python",
   "nbconvert_exporter": "python",
   "pygments_lexer": "ipython2",
   "version": "2.7.9"
  }
 },
 "nbformat": 4,
 "nbformat_minor": 0
}
