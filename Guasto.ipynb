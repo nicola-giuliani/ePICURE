{
 "cells": [
  {
   "cell_type": "code",
   "execution_count": null,
   "metadata": {
    "collapsed": false
   },
   "outputs": [],
   "source": [
    "from interfaces import *\n",
    "from utilities import *\n",
    "import numpy as np\n",
    "%pylab inline\n",
    "%load_ext autoreload\n",
    "%autoreload 2"
   ]
  },
  {
   "cell_type": "code",
   "execution_count": null,
   "metadata": {
    "collapsed": false
   },
   "outputs": [],
   "source": [
    "#BSpline parameters\n",
    "n = 4\n",
    "p = 3\n",
    "# Number of least square points\n",
    "n_ls = 140\n",
    "\n",
    "# Open knot vector\n",
    "knots = np.zeros(n+2*(p+1))\n",
    "\n",
    "knots = np.linspace(0,1,len(knots))\n",
    "knots[0:p+1] = 0\n",
    "knots[-p-1::] = 1\n",
    "print len(knots), p\n",
    "vsl = BsplineVectorSpace(p, knots)\n",
    "print vsl.n_dofs\n",
    "#BSpline parameters\n",
    "n = 5\n",
    "p = 3\n",
    "# Number of least square points\n",
    "n_ls = 140\n",
    "\n",
    "# Open knot vector\n",
    "knots = np.zeros(n+2*(p+1))\n",
    "\n",
    "knots = np.linspace(0,1,len(knots))\n",
    "knots[0:p+1] = 0\n",
    "knots[-p-1::] = 1\n",
    "print len(knots), p\n",
    "vsl_long = BsplineVectorSpace(p, knots)\n",
    "print vsl_long.n_dofs\n"
   ]
  },
  {
   "cell_type": "code",
   "execution_count": null,
   "metadata": {
    "collapsed": false
   },
   "outputs": [],
   "source": [
    "Guasto = np.load('GuastoPoints.npy')\n",
    "start_frame = Guasto[0,0]\n",
    "end_frame = Guasto[-1,0]\n",
    "frames_per_stroke = int(end_frame-start_frame)+1\n",
    "Guasto_CP=np.zeros([vsl.n_dofs+1,frames_per_stroke,3])\n",
    "Guasto_CP_rep=np.zeros([vsl.n_dofs+1,frames_per_stroke,3])\n",
    "points_per_frame = np.zeros(frames_per_stroke)\n",
    "frame=start_frame\n",
    "k=0\n",
    "for i in range(Guasto.shape[0]):\n",
    "    if(int(Guasto[i,0])!=frame):\n",
    "        points_per_frame[k]=Guasto[i-1,1]\n",
    "        frame=frame+1\n",
    "        k=k+1\n",
    "points_per_frame[-1]=Guasto[-1,1]\n",
    "#print points_per_frame\n"
   ]
  },
  {
   "cell_type": "code",
   "execution_count": null,
   "metadata": {
    "collapsed": false
   },
   "outputs": [],
   "source": [
    "for i in range(frames_per_stroke):\n",
    "    points = np.zeros([points_per_frame[i],2])\n",
    "    if i == 0:\n",
    "        start_index = 0\n",
    "    else:\n",
    "        start_index = int(np.sum(points_per_frame[:(i)]))\n",
    "    points = Guasto[start_index:(start_index+points_per_frame[i]),2:]\n",
    "    print points.shape\n",
    "    #print points\n",
    "    t = np.linspace(0,1,points_per_frame[i]) \n",
    "    Guasto_CP[1:,i,:2] = least_square_by_points(vsl, points, t)\n",
    "    #print Guasto_CP[1:,i,:]\n",
    "    \n",
    "arky = ArcLengthParametrizer(vsl, Guasto_CP[1:,:,:], 3)\n",
    "Guasto_CP_rep[1:,:,:]=arky.reparametrize()\n",
    "Guasto_length=np.max(arky.lengths)\n",
    "Julicher_length=6.15905483862\n",
    "print Guasto_length,Julicher_length\n",
    "plot(Guasto_CP_rep[1:,0,0]/Guasto_length*Julicher_length,Guasto_CP_rep[1:,0,1]/Guasto_length*Julicher_length,'o-',label='Original CPs')\n",
    "Guasto_CP_rep[1:,:,:]=Guasto_CP_rep[1:,:,:]/Guasto_length*Julicher_length-np.array([0.1,0,0])\n",
    "plot(Guasto_CP_rep[:,0,0],Guasto_CP_rep[:,0,1],'o-',label='Augmented CPs')\n",
    "title('Control Point Addition')\n",
    "legend(loc='upper center', bbox_to_anchor=(0.5, -0.2), fancybox=True, ncol=2)\n"
   ]
  },
  {
   "cell_type": "code",
   "execution_count": null,
   "metadata": {
    "collapsed": false
   },
   "outputs": [],
   "source": [
    "class Antenna(object):\n",
    "    def __init__(self, cp, vs):\n",
    "        self.cp = cp\n",
    "        self.vs = vs\n",
    "    \n",
    "    def plot(self, t):\n",
    "        s = linspace(0,1,50)\n",
    "        c = self.vs.element(self.cp[:,t,:])\n",
    "        plot(c(s)[0], c(s)[1])\n",
    "        plot(self.cp[:,t,0], self.cp[:,t,1], '-or')\n",
    "\n",
    "    def plot_curve(self, t):\n",
    "        s = linspace(0,1,50)\n",
    "        c = self.vs.element(self.cp[:,t,:])\n",
    "        plot(c(s)[0], c(s)[1])\n",
    "        #plot(self.cp[:,t,0], self.cp[:,t,1], '-or')\n",
    "        \n"
   ]
  },
  {
   "cell_type": "code",
   "execution_count": null,
   "metadata": {
    "collapsed": false
   },
   "outputs": [],
   "source": [
    "t = np.linspace(0,1,100)\n",
    "#for i in range(frames_per_stroke):\n",
    "ant=Antenna(Guasto_CP_rep[1:,:,:],vsl)\n",
    "ant.plot(1)\n",
    "\n"
   ]
  },
  {
   "cell_type": "code",
   "execution_count": null,
   "metadata": {
    "collapsed": false
   },
   "outputs": [],
   "source": [
    "\n",
    "for i in range(frames_per_stroke):\n",
    "    ant.plot_curve(i)\n",
    "    points = np.zeros([points_per_frame[i],2])\n",
    "    if i == 0:\n",
    "        start_index = 0\n",
    "    else:\n",
    "        start_index = int(np.sum(points_per_frame[:(i)]))\n",
    "    points = Guasto[start_index:(start_index+points_per_frame[i]),2:]\n",
    "    plot(points[:,0],points[:,1],'--')\n",
    "\n",
    "#for i in range(frames_per_stroke):\n",
    "    #ant.plot_curve(i)\n",
    "title('NURBS Phlagellum Approximation')"
   ]
  },
  {
   "cell_type": "code",
   "execution_count": null,
   "metadata": {
    "collapsed": false
   },
   "outputs": [],
   "source": [
    "ant_long=Antenna(Guasto_CP_rep[:,:,:],vsl_long)\n",
    "for i in range(frames_per_stroke):\n",
    "    ant_long.plot_curve(i)\n",
    "\n",
    "title('Guasto Stroke')"
   ]
  },
  {
   "cell_type": "code",
   "execution_count": null,
   "metadata": {
    "collapsed": false
   },
   "outputs": [],
   "source": [
    "ant.plot(0)\n",
    "ant.plot(12)\n",
    "ant.plot(11)\n",
    "print Guasto_CP_rep.shape[1]"
   ]
  },
  {
   "cell_type": "code",
   "execution_count": null,
   "metadata": {
    "collapsed": false
   },
   "outputs": [],
   "source": [
    "Guasto_CP_rep[:,-1,:]=Guasto_CP_rep[:,0,:]\n",
    "\n",
    "np.save('/Users/nicolagiuliani/giuliani-code/blender/CP_Guasto', Guasto_CP_rep[:,:-1,:])"
   ]
  },
  {
   "cell_type": "code",
   "execution_count": null,
   "metadata": {
    "collapsed": false
   },
   "outputs": [],
   "source": [
    "from interfaces import *\n",
    "from utilities import *\n",
    "import numpy as np\n",
    "%pylab inline\n",
    "\n",
    "CP_rep_arclength = np.zeros([vsl_long.n_dofs, frames_per_stroke, 3])\n",
    "Guasto_CP_plus1 = np.zeros([vsl_long.n_dofs, frames_per_stroke, 3])\n",
    "for i in range(frames_per_stroke):\n",
    "    points = np.zeros([points_per_frame[i],2])\n",
    "    if i == 0:\n",
    "        start_index = 0\n",
    "    else:\n",
    "        start_index = int(np.sum(points_per_frame[:(i)]))\n",
    "    points = Guasto[start_index:(start_index+points_per_frame[i]),2:]\n",
    "    print points.shape\n",
    "    #print points\n",
    "    t = np.linspace(0,1,points_per_frame[i]) \n",
    "    Guasto_CP_plus1[:,i,:2] = least_square_by_points(vsl_long, points, t)\n",
    "new_arky_long = ArcLengthParametrizer(vsl_long, Guasto_CP_plus1[:,:,:], 2, 1)\n",
    "Guasto_CP_rep_arclength = new_arky_long.reparametrize()\n"
   ]
  },
  {
   "cell_type": "code",
   "execution_count": null,
   "metadata": {
    "collapsed": false
   },
   "outputs": [],
   "source": [
    "print Guasto_CP_rep_arclength.shape\n",
    "ant_long = Antenna(Guasto_CP_rep_arclength, vsl_long)\n",
    "\n",
    "for i in range(frames_per_stroke):\n",
    "    ant_long.plot(i)\n",
    "\n",
    "#xlim([-10,10])\n",
    "#ylim([-10,10])\n",
    "    \n",
    "#print Guasto_CP_rep_arclength[0,:,:]\n",
    "#print Guasto_CP_rep_arclength[1,:,:]\n",
    "#print new_arky_long.rhsinit"
   ]
  },
  {
   "cell_type": "code",
   "execution_count": null,
   "metadata": {
    "collapsed": false
   },
   "outputs": [],
   "source": [
    "for i in range(frames_per_stroke):\n",
    "    ant_long.plot_curve(i)\n",
    "    points = np.zeros([points_per_frame[i],2])\n",
    "    if i == 0:\n",
    "        start_index = 0\n",
    "    else:\n",
    "        start_index = int(np.sum(points_per_frame[:(i)]))\n",
    "    points = Guasto[start_index:(start_index+points_per_frame[i]),2:]\n",
    "    #plot(points[:,0],points[:,1],'--')\n",
    "\n",
    "title('Guasto Stroke')"
   ]
  },
  {
   "cell_type": "code",
   "execution_count": null,
   "metadata": {
    "collapsed": false
   },
   "outputs": [],
   "source": [
    "#BSpline parameters\n",
    "n = 4\n",
    "p = 3\n",
    "# Number of least square points\n",
    "n_ls = 140\n",
    "\n",
    "# Open knot vector\n",
    "knots = np.zeros(n+2*(p+1))\n",
    "\n",
    "knots = np.linspace(0,1,len(knots))\n",
    "knots[0:p+1] = 0\n",
    "knots[-p-1::] = 1\n",
    "print len(knots), p\n",
    "vsl_try = BsplineVectorSpace(p, knots)\n",
    "print vsl_try.n_dofs\n",
    "\n",
    "Guasto_CP_try = np.zeros([vsl_try.n_dofs, frames_per_stroke, 3])\n",
    "for i in range(frames_per_stroke):\n",
    "    points = np.zeros([points_per_frame[i],2])\n",
    "    if i == 0:\n",
    "        start_index = 0\n",
    "    else:\n",
    "        start_index = int(np.sum(points_per_frame[:(i)]))\n",
    "    points = Guasto[start_index:(start_index+points_per_frame[i]),2:]\n",
    "    print points.shape\n",
    "    #print points\n",
    "    t = np.linspace(0,1,points_per_frame[i]) \n",
    "    Guasto_CP_try[:,i,:2] = least_square_by_points(vsl_try, points, t)\n",
    "new_arky_try = ArcLengthParametrizer(vsl_try, Guasto_CP_try[:,:,:], 2, 1)\n",
    "Guasto_CP_rep_try = new_arky_try.reparametrize()\n",
    "Guasto_length=np.max(new_arky_try.lengths)\n",
    "Julicher_length=6.15905483862\n",
    "Guasto_CP_rep_try=Guasto_CP_rep_try/Guasto_length*Julicher_length\n",
    "print Guasto_CP_rep_try.shape\n",
    "ant_try = Antenna(Guasto_CP_rep_try,vsl_try)\n",
    "for i in range(frames_per_stroke):\n",
    "    ant_try.plot_curve(i)\n",
    "    points = np.zeros([points_per_frame[i],2])\n",
    "    if i == 0:\n",
    "        start_index = 0\n",
    "    else:\n",
    "        start_index = int(np.sum(points_per_frame[:(i)]))\n",
    "    points = Guasto[start_index:(start_index+points_per_frame[i]),2:]\n",
    "    #plot(points[:,0],points[:,1],'--')\n",
    "\n"
   ]
  },
  {
   "cell_type": "code",
   "execution_count": null,
   "metadata": {
    "collapsed": false
   },
   "outputs": [],
   "source": [
    "Guasto_CP_rep_try[:,-1,:]=Guasto_CP_rep_try[:,0,:]\n",
    "np.save('/Users/nicolagiuliani/giuliani-code/blender/CP_Guasto_rep', Guasto_CP_rep_try[:,:,:])\n",
    "ant_try.plot(0)\n",
    "ant_try.plot(12)\n",
    "#ant_try.plot(12)"
   ]
  },
  {
   "cell_type": "code",
   "execution_count": null,
   "metadata": {
    "collapsed": false
   },
   "outputs": [],
   "source": [
    "Guasto_all=np.load('/Users/nicolagiuliani/giuliani-code/blender/Guasto_CPs_bis_rep.npy')\n",
    "print Guasto_all.shape, vsl_try.n_dofs\n",
    "ant_all=Antenna(Guasto_all[1:,:,:],vsl)\n",
    "arky_all=ArcLengthParametrizer(vsl_try,Guasto_all[:,:,:],2,1)\n",
    "Guasto_all_rep = np.zeros(Guasto_all.shape)\n",
    "Guasto_all_rep[:,:,:] = arky_all.reparametrize()\n"
   ]
  },
  {
   "cell_type": "code",
   "execution_count": null,
   "metadata": {
    "collapsed": false
   },
   "outputs": [],
   "source": [
    "np.save('/Users/nicolagiuliani/giuliani-code/blender/CP_Guasto_all_rep', Guasto_all_rep[:,:,:])\n",
    "ant_all_rep=Antenna(Guasto_all_rep[:,:,:],vsl_try)\n",
    "for i in range(Guasto_all.shape[1]):\n",
    "    ant_all_rep.plot(i)"
   ]
  },
  {
   "cell_type": "code",
   "execution_count": null,
   "metadata": {
    "collapsed": false
   },
   "outputs": [],
   "source": [
    "Guasto_all=np.load('Guasto_CPs_bis.npy')\n",
    "print Guasto_all.shape\n",
    "ant_all=Antenna(Guasto_all[1:,:,:],vsl)\n",
    "ant_all.plot(12)\n",
    "ant_all.plot(12*2)\n",
    "arky_all=ArcLengthParametrizer(vsl,Guasto_all[1:,:,:],3)\n",
    "Guasto_all_rep = np.zeros(Guasto_all.shape)\n",
    "Guasto_all_rep[1:,:,:] = arky_all.reparametrize()\n",
    "Guasto_all_rep[1:,:,:] = Guasto_all_rep[1:,:,:]-np.array([0.1,0,0])"
   ]
  },
  {
   "cell_type": "code",
   "execution_count": null,
   "metadata": {
    "collapsed": false
   },
   "outputs": [],
   "source": [
    "np.save('/Users/nicolagiuliani/giuliani-code/blender/CP_Guasto_all', Guasto_all_rep[:,:,:])\n",
    "ant_all_rep=Antenna(Guasto_all_rep[1:,:,:],vsl)\n",
    "for i in range(Guasto_all.shape[1]):\n",
    "    ant_all_rep.plot(i)\n",
    "    \n",
    "    "
   ]
  }
 ],
 "metadata": {
  "kernelspec": {
   "display_name": "Python 2",
   "language": "python",
   "name": "python2"
  },
  "language_info": {
   "codemirror_mode": {
    "name": "ipython",
    "version": 2
   },
   "file_extension": ".py",
   "mimetype": "text/x-python",
   "name": "python",
   "nbconvert_exporter": "python",
   "pygments_lexer": "ipython2",
   "version": "2.7.9"
  }
 },
 "nbformat": 4,
 "nbformat_minor": 0
}
