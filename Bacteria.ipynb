{
 "cells": [
  {
   "cell_type": "code",
   "execution_count": null,
   "metadata": {
    "collapsed": false
   },
   "outputs": [],
   "source": [
    "from interfaces import *\n",
    "from utilities import *\n",
    "import numpy as np\n",
    "from scipy import stats\n",
    "from copy import deepcopy\n",
    "import matplotlib as mpl\n",
    "from mpl_toolkits.mplot3d import Axes3D\n",
    "import matplotlib.pyplot as plt\n",
    "\n",
    "%pylab inline\n",
    "%load_ext autoreload\n",
    "%autoreload 2"
   ]
  },
  {
   "cell_type": "code",
   "execution_count": null,
   "metadata": {
    "collapsed": false
   },
   "outputs": [],
   "source": [
    "#BSpline parameters\n",
    "n = 19#4\n",
    "p = 3\n",
    "# Number of least square points\n",
    "n_ls = 140\n",
    "\n",
    "# Open knot vector\n",
    "knots = np.zeros(n+2*(p+1))\n",
    "\n",
    "knots = np.linspace(0,1,len(knots))\n",
    "knots[0:p+1] = 0\n",
    "knots[-p-1::] = 1\n",
    "print len(knots), p\n",
    "vsl = BsplineVectorSpace(p, knots)\n",
    "print vsl.n_dofs\n",
    "#BSpline parameters\n",
    "n += 1 \n",
    "p = 3\n",
    "# Number of least square points\n",
    "n_ls = 140\n",
    "\n",
    "# Open knot vector\n",
    "knots = np.zeros(n+2*(p+1))\n",
    "\n",
    "knots = np.linspace(0,1,len(knots))\n",
    "knots[0:p+1] = 0\n",
    "knots[-p-1::] = 1\n",
    "print len(knots), p\n",
    "vsl_long = BsplineVectorSpace(p, knots)\n",
    "print vsl_long.n_dofs\n",
    "\n",
    "class Antenna(object):\n",
    "    def __init__(self, cp, vs):\n",
    "        self.cp = cp\n",
    "        self.vs = vs\n",
    "    \n",
    "    def plot(self, t):\n",
    "        s = linspace(0,1,50)\n",
    "        c = self.vs.element(self.cp[:,t,:])\n",
    "        plot(c(s)[0], c(s)[1])\n",
    "        plot(self.cp[:,t,0], self.cp[:,t,1], '-or')\n",
    "\n",
    "    def plot_curve(self, t):\n",
    "        s = linspace(0,1,50)\n",
    "        c = self.vs.element(self.cp[:,t,:])\n",
    "        plot(c(s)[0], c(s)[1])\n",
    "        #plot(self.cp[:,t,0], self.cp[:,t,1], '-or')\n",
    "        \n",
    "    def plot_curve_comparison(self, t, points):\n",
    "        s = linspace(0,1,50)\n",
    "        c = self.vs.element(self.cp[:,t,:])\n",
    "        hold(True)\n",
    "        plot(c(s)[0], c(s)[1])\n",
    "        plot(points[:,0], points[:,1], '--')\n",
    "\n"
   ]
  },
  {
   "cell_type": "code",
   "execution_count": null,
   "metadata": {
    "collapsed": false
   },
   "outputs": [],
   "source": [
    "# Spiral parameters:\n",
    "nturns = 3.0\n",
    "heigth = 1.0\n",
    "radius = heigth /2\n",
    "offset = heigth/3\n",
    "# Spiral analytical expression\n",
    "cz = lambda x: radius*sin(nturns*2*pi*x)\n",
    "cy = lambda y: radius*cos(nturns*2*pi*y)\n",
    "cx = lambda z: heigth*z+offset\n",
    "\n",
    "\n"
   ]
  },
  {
   "cell_type": "code",
   "execution_count": null,
   "metadata": {
    "collapsed": false
   },
   "outputs": [],
   "source": [
    "#vs = BsplineVectorSpace(p, knots)\n",
    "\n",
    "# Least square parameter points\n",
    "t = linspace(0,1,n_ls) \n",
    "\n",
    "# Least square points of the curve\n",
    "F = array([cx(t), cy(t), cz(t)])\n",
    "print F.shape, F[:,0]\n",
    "F[:,0] = [0.,0.,0.]\n",
    "F[:,1:10] = array([np.linspace(0,F[0,10],9),np.linspace(0,F[1,10],9),np.linspace(0,F[2,10],9)])\n",
    "print F[:,:10]\n",
    "# Least square matrix\n",
    "M = interpolation_matrix(vsl_long, t)\n",
    "\n",
    "# Control points and curve\n",
    "CP = lstsq(M, F.T)[0]\n",
    "\n",
    "print CP.shape\n",
    "CP[0,:] = [0.,0.,0.]\n",
    "fig = plt.figure()\n",
    "ax = fig.gca(projection='3d')\n",
    "spiral = vsl_long.element(CP)\n",
    "#theta = np.linspace(-4 * np.pi, 4 * np.pi, 100)\n",
    "x = spiral(t)[0]\n",
    "y = spiral(t)[1]\n",
    "z = spiral(t)[2]\n",
    "#x = F[0,:]\n",
    "#y = F[1,:]\n",
    "#z = F[2,:]\n",
    "print F[0,:10]\n",
    "print x[:10]\n",
    "ax.plot(x, y, z, label='parametric curve')\n",
    "ax.set_xlim3d(0, 1.2)\n",
    "ax.set_ylim3d(-1,1)\n",
    "ax.set_zlim3d(-1,1)\n",
    "\n",
    "ax.legend()\n",
    "\n"
   ]
  },
  {
   "cell_type": "code",
   "execution_count": null,
   "metadata": {
    "collapsed": false
   },
   "outputs": [],
   "source": [
    "def spiral_movement(CP_old, CP_new, theta):\n",
    "#     R = matrix([[1, 0, 0],[0, cos(theta), -sin(theta)],[0, sin(theta), cos(theta)]]\n",
    "    CP_new[:,0] = CP_old[:,0]\n",
    "    CP_new[:,1] = cos(theta) * CP_old[:,1] - sin(theta) * CP_old[:,2]\n",
    "    CP_new[:,2] = cos(theta) * CP_old[:,2] + sin(theta) * CP_old[:,1]\n"
   ]
  },
  {
   "cell_type": "code",
   "execution_count": null,
   "metadata": {
    "collapsed": false
   },
   "outputs": [],
   "source": [
    "fig = plt.figure()\n",
    "ax = fig.gca(projection='3d')\n",
    "nstep=5\n",
    "CP_new=zeros([CP.shape[0],nstep,CP.shape[1]])\n",
    "print CP_new.shape\n",
    "k=0\n",
    "\n",
    "for i in np.linspace(0, 2*pi, nstep):\n",
    "    spiral_movement(CP[:,:], CP_new[:,k,:], i)\n",
    "    spiral = vsl_long.element(CP_new[:,k,:])\n",
    "    k+=1\n",
    "    #theta = np.linspace(-4 * np.pi, 4 * np.pi, 100)\n",
    "    #x = F[0,:]\n",
    "    x = spiral(t)[0]\n",
    "    #print x\n",
    "    #y = F[1,:]\n",
    "    y = spiral(t)[1]\n",
    "    #z = F[2,:]\n",
    "    z = spiral(t)[2]\n",
    "    ax.plot(x, y, z, label='parametric curve')\n",
    "ax.set_xlim3d(0, 2)\n",
    "ax.set_ylim3d(-1,1)\n",
    "ax.set_zlim3d(-1,1)\n"
   ]
  },
  {
   "cell_type": "code",
   "execution_count": null,
   "metadata": {
    "collapsed": false
   },
   "outputs": [],
   "source": [
    "arky = ArcLengthParametrizer(vsl_long, CP_new[:,:,:], 2, 1)\n",
    "CP_new_arclength = arky.reparametrize()\n"
   ]
  },
  {
   "cell_type": "code",
   "execution_count": null,
   "metadata": {
    "collapsed": false
   },
   "outputs": [],
   "source": [
    "k=0\n",
    "fig = plt.figure()\n",
    "ax = fig.gca(projection='3d')\n",
    "\n",
    "for i in np.linspace(0, 2*pi, nstep):\n",
    "    spiral = vsl_long.element(CP_new_arclength[:,k,:])\n",
    "    k+=1\n",
    "    #theta = np.linspace(-4 * np.pi, 4 * np.pi, 100)\n",
    "    #x = F[0,:]\n",
    "    x = spiral(t)[0]\n",
    "    #print x\n",
    "    #y = F[1,:]\n",
    "    y = spiral(t)[1]\n",
    "    #z = F[2,:]\n",
    "    z = spiral(t)[2]\n",
    "    ax.plot(x, y, z, label='parametric curve')\n",
    "ax.set_xlim3d(0, 1.2)\n",
    "ax.set_ylim3d(-1,1)\n",
    "ax.set_zlim3d(-1,1)\n"
   ]
  },
  {
   "cell_type": "code",
   "execution_count": null,
   "metadata": {
    "collapsed": false
   },
   "outputs": [],
   "source": [
    "def tangent_continuer(m, point2, new_points, L, Lfin, Np, n_p, direction):\n",
    "    dl = (Lfin-L)/n_p \n",
    "    alpha = np.arctan(m)\n",
    "    print point2[0]\n",
    "    if(direction>0):\n",
    "        dx = dl / np.sqrt(1 + m**2)\n",
    "    else:\n",
    "        dx = - dl / np.sqrt(1 + m**2)\n",
    "    new_points[:,0] = np.linspace(point2[0],point2[0] + n_p * dx, n_p)\n",
    "    new_points[:,1] = np.linspace(point2[1],point2[1] + n_p * dx * m, n_p)#np.arange(point2[1],point2[1] + m * np * dx, m * dx)\n",
    "    \n",
    "    \n"
   ]
  },
  {
   "cell_type": "code",
   "execution_count": null,
   "metadata": {
    "collapsed": false
   },
   "outputs": [],
   "source": [
    "# Guasto_CP_rep_try[:,-1,:]=Guasto_CP_rep_try[:,0,:]\n",
    "# np.save('/Users/nicolagiuliani/giuliani-code/blender/CP_Guasto_rep', Guasto_CP_rep_try[:,:,:])\n",
    "# ant_try.plot(0)\n",
    "# ant_try.plot(12)\n",
    "# #ant_try.plot(12)"
   ]
  }
 ],
 "metadata": {
  "kernelspec": {
   "display_name": "Python 2",
   "language": "python",
   "name": "python2"
  },
  "language_info": {
   "codemirror_mode": {
    "name": "ipython",
    "version": 2
   },
   "file_extension": ".py",
   "mimetype": "text/x-python",
   "name": "python",
   "nbconvert_exporter": "python",
   "pygments_lexer": "ipython2",
   "version": "2.7.9"
  }
 },
 "nbformat": 4,
 "nbformat_minor": 0
}
